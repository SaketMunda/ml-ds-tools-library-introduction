{
 "cells": [
  {
   "cell_type": "code",
   "execution_count": 1,
   "id": "e5c1af35",
   "metadata": {},
   "outputs": [],
   "source": [
    "import numpy as np"
   ]
  },
  {
   "cell_type": "markdown",
   "id": "bcc355b4",
   "metadata": {},
   "source": [
    "## Datatypes and Attributes\n",
    "\n",
    "   Numpy's main datatype is **ndarray** which is widely used.\n",
    "   - N-Dimensional Array : array()\n",
    "   \n",
    "We will look into some attributes available for numpy's ndarray\n",
    "   - .size \n",
    "   - .ndim \n",
    "   - type()\n",
    "   - .shape\n",
    "   - .dtype\n",
    "\n"
   ]
  },
  {
   "cell_type": "code",
   "execution_count": 35,
   "id": "c8be9d5b",
   "metadata": {},
   "outputs": [
    {
     "data": {
      "text/plain": [
       "array([1, 2, 3])"
      ]
     },
     "execution_count": 35,
     "metadata": {},
     "output_type": "execute_result"
    }
   ],
   "source": [
    "a1 = np.array([1,2,3])\n",
    "a1"
   ]
  },
  {
   "cell_type": "code",
   "execution_count": 36,
   "id": "0ea1538d",
   "metadata": {},
   "outputs": [
    {
     "data": {
      "text/plain": [
       "array([[1. , 2. , 3.3],\n",
       "       [4. , 5. , 6.5]])"
      ]
     },
     "execution_count": 36,
     "metadata": {},
     "output_type": "execute_result"
    }
   ],
   "source": [
    "a2 = np.array([[1,2.0,3.3],[4,5,6.5]])\n",
    "a2"
   ]
  },
  {
   "cell_type": "code",
   "execution_count": 37,
   "id": "0f93544e",
   "metadata": {},
   "outputs": [
    {
     "data": {
      "text/plain": [
       "array([[[ 1,  2,  3],\n",
       "        [ 4,  5,  6],\n",
       "        [ 7,  8,  9]],\n",
       "\n",
       "       [[10, 11, 12],\n",
       "        [13, 14, 15],\n",
       "        [16, 17, 18]]])"
      ]
     },
     "execution_count": 37,
     "metadata": {},
     "output_type": "execute_result"
    }
   ],
   "source": [
    "a3 = np.array([[[1,2,3],[4,5,6],[7,8,9]],[[10,11,12],[13,14,15],[16,17,18]]])\n",
    "a3"
   ]
  },
  {
   "cell_type": "code",
   "execution_count": 7,
   "id": "e5b334aa",
   "metadata": {},
   "outputs": [
    {
     "data": {
      "text/plain": [
       "(3, 6, 18)"
      ]
     },
     "execution_count": 7,
     "metadata": {},
     "output_type": "execute_result"
    }
   ],
   "source": [
    "a1.size, a2.size, a3.size"
   ]
  },
  {
   "cell_type": "code",
   "execution_count": 8,
   "id": "f1fad246",
   "metadata": {},
   "outputs": [
    {
     "data": {
      "text/plain": [
       "(1, 2, 3)"
      ]
     },
     "execution_count": 8,
     "metadata": {},
     "output_type": "execute_result"
    }
   ],
   "source": [
    "a1.ndim, a2.ndim, a3.ndim"
   ]
  },
  {
   "cell_type": "code",
   "execution_count": 9,
   "id": "0a33a984",
   "metadata": {},
   "outputs": [
    {
     "data": {
      "text/plain": [
       "(numpy.ndarray, numpy.ndarray, numpy.ndarray)"
      ]
     },
     "execution_count": 9,
     "metadata": {},
     "output_type": "execute_result"
    }
   ],
   "source": [
    "type(a1), type(a2), type(a3)"
   ]
  },
  {
   "cell_type": "code",
   "execution_count": 10,
   "id": "38953373",
   "metadata": {},
   "outputs": [
    {
     "data": {
      "text/plain": [
       "((3,), (2, 3), (2, 3, 3))"
      ]
     },
     "execution_count": 10,
     "metadata": {},
     "output_type": "execute_result"
    }
   ],
   "source": [
    "a1.shape, a2.shape, a3.shape"
   ]
  },
  {
   "cell_type": "code",
   "execution_count": 11,
   "id": "d55707ab",
   "metadata": {},
   "outputs": [],
   "source": [
    "# When 1 Dimensional array, numpy consider only it's column as the shape, it doesn't consider row."
   ]
  },
  {
   "cell_type": "code",
   "execution_count": 12,
   "id": "478454e5",
   "metadata": {},
   "outputs": [
    {
     "data": {
      "text/plain": [
       "(dtype('int64'), dtype('float64'), dtype('int64'))"
      ]
     },
     "execution_count": 12,
     "metadata": {},
     "output_type": "execute_result"
    }
   ],
   "source": [
    "a1.dtype, a2.dtype, a3.dtype"
   ]
  },
  {
   "cell_type": "code",
   "execution_count": 18,
   "id": "11ecae2e",
   "metadata": {},
   "outputs": [
    {
     "data": {
      "text/html": [
       "<div>\n",
       "<style scoped>\n",
       "    .dataframe tbody tr th:only-of-type {\n",
       "        vertical-align: middle;\n",
       "    }\n",
       "\n",
       "    .dataframe tbody tr th {\n",
       "        vertical-align: top;\n",
       "    }\n",
       "\n",
       "    .dataframe thead th {\n",
       "        text-align: right;\n",
       "    }\n",
       "</style>\n",
       "<table border=\"1\" class=\"dataframe\">\n",
       "  <thead>\n",
       "    <tr style=\"text-align: right;\">\n",
       "      <th></th>\n",
       "      <th>0</th>\n",
       "      <th>1</th>\n",
       "      <th>2</th>\n",
       "    </tr>\n",
       "  </thead>\n",
       "  <tbody>\n",
       "    <tr>\n",
       "      <th>0</th>\n",
       "      <td>1.0</td>\n",
       "      <td>2.0</td>\n",
       "      <td>3.3</td>\n",
       "    </tr>\n",
       "    <tr>\n",
       "      <th>1</th>\n",
       "      <td>4.0</td>\n",
       "      <td>5.0</td>\n",
       "      <td>6.5</td>\n",
       "    </tr>\n",
       "  </tbody>\n",
       "</table>\n",
       "</div>"
      ],
      "text/plain": [
       "     0    1    2\n",
       "0  1.0  2.0  3.3\n",
       "1  4.0  5.0  6.5"
      ]
     },
     "execution_count": 18,
     "metadata": {},
     "output_type": "execute_result"
    }
   ],
   "source": [
    "# Creating pandas DataFrame using ndarray\n",
    "import pandas as pd\n",
    "\n",
    "df = pd.DataFrame(a2)\n",
    "df\n",
    "\n",
    "# Note: It's limited upto 2-D array only, don't support 3-D array"
   ]
  },
  {
   "cell_type": "markdown",
   "id": "e661ecf0",
   "metadata": {},
   "source": [
    "## Creating arrays\n",
    "\n",
    "We can create pre-filled data arrays using pre-defined methods of numpy, \n",
    "- ones()\n",
    "- zeros()\n",
    "- arange()\n",
    "- random.randint()\n",
    "- random.random()\n",
    "- random.rand()"
   ]
  },
  {
   "cell_type": "code",
   "execution_count": 19,
   "id": "df2723ab",
   "metadata": {},
   "outputs": [],
   "source": [
    "sample_ones = np.ones((2,3))"
   ]
  },
  {
   "cell_type": "code",
   "execution_count": 21,
   "id": "26fc169d",
   "metadata": {},
   "outputs": [
    {
     "data": {
      "text/plain": [
       "array([[1., 1., 1.],\n",
       "       [1., 1., 1.]])"
      ]
     },
     "execution_count": 21,
     "metadata": {},
     "output_type": "execute_result"
    }
   ],
   "source": [
    "sample_ones\n",
    "# float is the default datatype"
   ]
  },
  {
   "cell_type": "code",
   "execution_count": 22,
   "id": "a15e93b4",
   "metadata": {},
   "outputs": [],
   "source": [
    "sample_zeros = np.zeros((2,3))"
   ]
  },
  {
   "cell_type": "code",
   "execution_count": 24,
   "id": "d67ae5a5",
   "metadata": {},
   "outputs": [
    {
     "data": {
      "text/plain": [
       "array([[0., 0., 0.],\n",
       "       [0., 0., 0.]])"
      ]
     },
     "execution_count": 24,
     "metadata": {},
     "output_type": "execute_result"
    }
   ],
   "source": [
    "sample_zeros"
   ]
  },
  {
   "cell_type": "code",
   "execution_count": 27,
   "id": "1ee444b5",
   "metadata": {},
   "outputs": [
    {
     "data": {
      "text/plain": [
       "array([0, 2, 4, 6, 8])"
      ]
     },
     "execution_count": 27,
     "metadata": {},
     "output_type": "execute_result"
    }
   ],
   "source": [
    "sample_range = np.arange(0,10,2)\n",
    "sample_range"
   ]
  },
  {
   "cell_type": "code",
   "execution_count": 28,
   "id": "71ff3c57",
   "metadata": {},
   "outputs": [],
   "source": [
    "sample_random_array = np.random.randint(0,10,size=(2,3))"
   ]
  },
  {
   "cell_type": "code",
   "execution_count": 29,
   "id": "c5d1543f",
   "metadata": {},
   "outputs": [
    {
     "data": {
      "text/plain": [
       "array([[8, 7, 7],\n",
       "       [4, 5, 5]])"
      ]
     },
     "execution_count": 29,
     "metadata": {},
     "output_type": "execute_result"
    }
   ],
   "source": [
    "sample_random_array"
   ]
  },
  {
   "cell_type": "code",
   "execution_count": 33,
   "id": "b84ebe9c",
   "metadata": {},
   "outputs": [],
   "source": [
    "sample_random_random = np.random.random((2,3,3))"
   ]
  },
  {
   "cell_type": "code",
   "execution_count": 34,
   "id": "3b271b81",
   "metadata": {},
   "outputs": [
    {
     "data": {
      "text/plain": [
       "array([[[0.2498255 , 0.8284725 , 0.40403594],\n",
       "        [0.91574851, 0.43761082, 0.18372254],\n",
       "        [0.64467041, 0.82928474, 0.7518837 ]],\n",
       "\n",
       "       [[0.48197177, 0.29242335, 0.79017728],\n",
       "        [0.79766477, 0.80756902, 0.3191039 ],\n",
       "        [0.41653196, 0.83728754, 0.63949006]]])"
      ]
     },
     "execution_count": 34,
     "metadata": {},
     "output_type": "execute_result"
    }
   ],
   "source": [
    "sample_random_random"
   ]
  },
  {
   "cell_type": "code",
   "execution_count": 32,
   "id": "4200cd31",
   "metadata": {},
   "outputs": [
    {
     "data": {
      "text/plain": [
       "array([[[0.4090276 , 0.66227793, 0.73313717],\n",
       "        [0.65113127, 0.81862219, 0.1778512 ],\n",
       "        [0.90261295, 0.51530734, 0.16266213]],\n",
       "\n",
       "       [[0.50797268, 0.85442672, 0.46435477],\n",
       "        [0.24221986, 0.58115955, 0.85762373],\n",
       "        [0.9976721 , 0.20530181, 0.24856061]]])"
      ]
     },
     "execution_count": 32,
     "metadata": {},
     "output_type": "execute_result"
    }
   ],
   "source": [
    "sample_random_rand = np.random.rand(2,3,3)\n",
    "sample_random_rand"
   ]
  },
  {
   "cell_type": "markdown",
   "id": "81200e72",
   "metadata": {},
   "source": [
    "We can also create *Pseudo random numbers*. Why ? \n",
    "\n",
    "\n",
    "So that we can generate the random numbers once and then stick to that numbers which is generated \n",
    "\n",
    "\n",
    "using random.random or random.randint()\n",
    "\n",
    "\n",
    "This is useful if you want reproduce the issue or logic with same random numbers\n",
    "\n",
    "np.random.seed(5)\n",
    "\n",
    "It everytime generates the same random numbers in this machine when it sees seed(5) and in other machine as well.\n",
    "\n",
    "So the value inside i.e 5 is the main indexer here."
   ]
  },
  {
   "cell_type": "code",
   "execution_count": 50,
   "id": "3ae40117",
   "metadata": {},
   "outputs": [
    {
     "data": {
      "text/plain": [
       "array([[[0.89286015, 0.33197981, 0.82122912],\n",
       "        [0.04169663, 0.10765668, 0.59505206],\n",
       "        [0.52981736, 0.41880743, 0.33540785]],\n",
       "\n",
       "       [[0.62251943, 0.43814143, 0.73588211],\n",
       "        [0.51803641, 0.5788586 , 0.6453551 ],\n",
       "        [0.99022427, 0.8198582 , 0.41320093]]])"
      ]
     },
     "execution_count": 50,
     "metadata": {},
     "output_type": "execute_result"
    }
   ],
   "source": [
    "np.random.seed(6)\n",
    "sample_random_rand = np.random.rand(2,3,3)\n",
    "sample_random_rand"
   ]
  },
  {
   "cell_type": "markdown",
   "id": "e19ae724",
   "metadata": {},
   "source": [
    "## Viewing Arrays and Matrices\n",
    "\n",
    "1D array are considered as *Vector*\n",
    "\n",
    "More than 1D array are considered as *Matrix*\n",
    "\n"
   ]
  },
  {
   "cell_type": "code",
   "execution_count": 51,
   "id": "c3b84815",
   "metadata": {},
   "outputs": [],
   "source": [
    "random_array_1 = np.random.randint(10,size=(2,3,4,5))"
   ]
  },
  {
   "cell_type": "code",
   "execution_count": 75,
   "id": "edfd0240",
   "metadata": {},
   "outputs": [
    {
     "data": {
      "text/plain": [
       "array([[[[5, 5, 1, 4, 5],\n",
       "         [0, 2, 2, 3, 5],\n",
       "         [9, 5, 2, 7, 8],\n",
       "         [5, 6, 3, 5, 1]],\n",
       "\n",
       "        [[2, 3, 6, 9, 9],\n",
       "         [8, 0, 3, 7, 4],\n",
       "         [8, 1, 2, 4, 1],\n",
       "         [5, 5, 6, 1, 9]],\n",
       "\n",
       "        [[0, 5, 8, 9, 1],\n",
       "         [2, 2, 9, 5, 4],\n",
       "         [1, 6, 3, 1, 4],\n",
       "         [9, 8, 4, 6, 2]]],\n",
       "\n",
       "\n",
       "       [[[9, 6, 2, 5, 2],\n",
       "         [7, 5, 1, 1, 7],\n",
       "         [5, 4, 2, 8, 8],\n",
       "         [7, 8, 0, 8, 9]],\n",
       "\n",
       "        [[2, 0, 7, 6, 0],\n",
       "         [7, 5, 1, 8, 5],\n",
       "         [9, 6, 3, 7, 7],\n",
       "         [5, 3, 8, 7, 3]],\n",
       "\n",
       "        [[5, 9, 3, 8, 0],\n",
       "         [7, 7, 0, 3, 5],\n",
       "         [3, 2, 3, 4, 9],\n",
       "         [0, 8, 6, 3, 2]]]])"
      ]
     },
     "execution_count": 75,
     "metadata": {},
     "output_type": "execute_result"
    }
   ],
   "source": [
    "random_array_1\n",
    "\n",
    "# Visualize the array by checking the outermost number in the .shape() with inner most array from display,\n",
    "\n",
    "# check from RTL direction of .shape  <==> inner to outer of displayed array/matrices"
   ]
  },
  {
   "cell_type": "code",
   "execution_count": 54,
   "id": "e8554bad",
   "metadata": {},
   "outputs": [
    {
     "data": {
      "text/plain": [
       "array([0, 1, 2, 3, 4, 5, 6, 7, 8, 9])"
      ]
     },
     "execution_count": 54,
     "metadata": {},
     "output_type": "execute_result"
    }
   ],
   "source": [
    "# Show the unique values in random_array_1\n",
    "np.unique(random_array_1)"
   ]
  },
  {
   "cell_type": "code",
   "execution_count": 60,
   "id": "22822502",
   "metadata": {},
   "outputs": [
    {
     "data": {
      "text/plain": [
       "((2, 3, 4, 5), 4)"
      ]
     },
     "execution_count": 60,
     "metadata": {},
     "output_type": "execute_result"
    }
   ],
   "source": [
    "random_array_1.shape, random_array_1.ndim"
   ]
  },
  {
   "cell_type": "code",
   "execution_count": 62,
   "id": "5635545b",
   "metadata": {},
   "outputs": [
    {
     "data": {
      "text/plain": [
       "array([8, 1, 2, 4, 1])"
      ]
     },
     "execution_count": 62,
     "metadata": {},
     "output_type": "execute_result"
    }
   ],
   "source": [
    "random_array_1[0,1,2]"
   ]
  },
  {
   "cell_type": "code",
   "execution_count": 63,
   "id": "9cb0f2cf",
   "metadata": {},
   "outputs": [
    {
     "data": {
      "text/plain": [
       "array([[[[5, 5, 1, 4, 5],\n",
       "         [0, 2, 2, 3, 5],\n",
       "         [9, 5, 2, 7, 8],\n",
       "         [5, 6, 3, 5, 1]],\n",
       "\n",
       "        [[2, 3, 6, 9, 9],\n",
       "         [8, 0, 3, 7, 4],\n",
       "         [8, 1, 2, 4, 1],\n",
       "         [5, 5, 6, 1, 9]],\n",
       "\n",
       "        [[0, 5, 8, 9, 1],\n",
       "         [2, 2, 9, 5, 4],\n",
       "         [1, 6, 3, 1, 4],\n",
       "         [9, 8, 4, 6, 2]]],\n",
       "\n",
       "\n",
       "       [[[9, 6, 2, 5, 2],\n",
       "         [7, 5, 1, 1, 7],\n",
       "         [5, 4, 2, 8, 8],\n",
       "         [7, 8, 0, 8, 9]],\n",
       "\n",
       "        [[2, 0, 7, 6, 0],\n",
       "         [7, 5, 1, 8, 5],\n",
       "         [9, 6, 3, 7, 7],\n",
       "         [5, 3, 8, 7, 3]],\n",
       "\n",
       "        [[5, 9, 3, 8, 0],\n",
       "         [7, 7, 0, 3, 5],\n",
       "         [3, 2, 3, 4, 9],\n",
       "         [0, 8, 6, 3, 2]]]])"
      ]
     },
     "execution_count": 63,
     "metadata": {},
     "output_type": "execute_result"
    }
   ],
   "source": [
    "random_array_1[:,:,:,:]"
   ]
  },
  {
   "cell_type": "code",
   "execution_count": 68,
   "id": "10be3980",
   "metadata": {},
   "outputs": [
    {
     "data": {
      "text/plain": [
       "array([[[[5, 5, 1, 4, 5],\n",
       "         [0, 2, 2, 3, 5],\n",
       "         [9, 5, 2, 7, 8],\n",
       "         [5, 6, 3, 5, 1]],\n",
       "\n",
       "        [[2, 3, 6, 9, 9],\n",
       "         [8, 0, 3, 7, 4],\n",
       "         [8, 1, 2, 4, 1],\n",
       "         [5, 5, 6, 1, 9]]]])"
      ]
     },
     "execution_count": 68,
     "metadata": {},
     "output_type": "execute_result"
    }
   ],
   "source": [
    "random_array_1[:1, :2]"
   ]
  },
  {
   "cell_type": "code",
   "execution_count": 74,
   "id": "828aac98",
   "metadata": {},
   "outputs": [
    {
     "data": {
      "text/plain": [
       "array([[[[5, 5, 1],\n",
       "         [0, 2, 2],\n",
       "         [9, 5, 2],\n",
       "         [5, 6, 3]],\n",
       "\n",
       "        [[2, 3, 6],\n",
       "         [8, 0, 3],\n",
       "         [8, 1, 2],\n",
       "         [5, 5, 6]],\n",
       "\n",
       "        [[0, 5, 8],\n",
       "         [2, 2, 9],\n",
       "         [1, 6, 3],\n",
       "         [9, 8, 4]]],\n",
       "\n",
       "\n",
       "       [[[9, 6, 2],\n",
       "         [7, 5, 1],\n",
       "         [5, 4, 2],\n",
       "         [7, 8, 0]],\n",
       "\n",
       "        [[2, 0, 7],\n",
       "         [7, 5, 1],\n",
       "         [9, 6, 3],\n",
       "         [5, 3, 8]],\n",
       "\n",
       "        [[5, 9, 3],\n",
       "         [7, 7, 0],\n",
       "         [3, 2, 3],\n",
       "         [0, 8, 6]]]])"
      ]
     },
     "execution_count": 74,
     "metadata": {},
     "output_type": "execute_result"
    }
   ],
   "source": [
    "# Get the first 3 numbers of inner most arrays\n",
    "random_array_1[:, :, :, :3]"
   ]
  },
  {
   "cell_type": "markdown",
   "id": "1a5e29b8",
   "metadata": {},
   "source": [
    "## Manipulating & Comparing arrays\n",
    "\n",
    "### Arithmetic \n",
    "- Mathematical Operations"
   ]
  },
  {
   "cell_type": "code",
   "execution_count": 76,
   "id": "6dabbc2b",
   "metadata": {},
   "outputs": [
    {
     "data": {
      "text/plain": [
       "array([1, 2, 3])"
      ]
     },
     "execution_count": 76,
     "metadata": {},
     "output_type": "execute_result"
    }
   ],
   "source": [
    "a1"
   ]
  },
  {
   "cell_type": "code",
   "execution_count": 78,
   "id": "c9603ca7",
   "metadata": {},
   "outputs": [],
   "source": [
    "ones = sample_ones"
   ]
  },
  {
   "cell_type": "code",
   "execution_count": 79,
   "id": "d69133cf",
   "metadata": {},
   "outputs": [
    {
     "data": {
      "text/plain": [
       "array([[2., 3., 4.],\n",
       "       [2., 3., 4.]])"
      ]
     },
     "execution_count": 79,
     "metadata": {},
     "output_type": "execute_result"
    }
   ],
   "source": [
    "a1 + ones"
   ]
  },
  {
   "cell_type": "code",
   "execution_count": 80,
   "id": "b16a82fb",
   "metadata": {},
   "outputs": [
    {
     "data": {
      "text/plain": [
       "array([[[ 1,  2,  3],\n",
       "        [ 4,  5,  6],\n",
       "        [ 7,  8,  9]],\n",
       "\n",
       "       [[10, 11, 12],\n",
       "        [13, 14, 15],\n",
       "        [16, 17, 18]]])"
      ]
     },
     "execution_count": 80,
     "metadata": {},
     "output_type": "execute_result"
    }
   ],
   "source": [
    "a3"
   ]
  },
  {
   "cell_type": "code",
   "execution_count": 81,
   "id": "9184b35e",
   "metadata": {},
   "outputs": [
    {
     "data": {
      "text/plain": [
       "array([[[ 2,  4,  6],\n",
       "        [ 5,  7,  9],\n",
       "        [ 8, 10, 12]],\n",
       "\n",
       "       [[11, 13, 15],\n",
       "        [14, 16, 18],\n",
       "        [17, 19, 21]]])"
      ]
     },
     "execution_count": 81,
     "metadata": {},
     "output_type": "execute_result"
    }
   ],
   "source": [
    "a1 + a3"
   ]
  },
  {
   "cell_type": "code",
   "execution_count": 82,
   "id": "57a0f43b",
   "metadata": {},
   "outputs": [
    {
     "data": {
      "text/plain": [
       "array([[[  0,   0,   0],\n",
       "        [ -3,  -3,  -3],\n",
       "        [ -6,  -6,  -6]],\n",
       "\n",
       "       [[ -9,  -9,  -9],\n",
       "        [-12, -12, -12],\n",
       "        [-15, -15, -15]]])"
      ]
     },
     "execution_count": 82,
     "metadata": {},
     "output_type": "execute_result"
    }
   ],
   "source": [
    "a1 - a3"
   ]
  },
  {
   "cell_type": "code",
   "execution_count": 83,
   "id": "5b570b9e",
   "metadata": {},
   "outputs": [
    {
     "data": {
      "text/plain": [
       "array([[[ 1,  4,  9],\n",
       "        [ 4, 10, 18],\n",
       "        [ 7, 16, 27]],\n",
       "\n",
       "       [[10, 22, 36],\n",
       "        [13, 28, 45],\n",
       "        [16, 34, 54]]])"
      ]
     },
     "execution_count": 83,
     "metadata": {},
     "output_type": "execute_result"
    }
   ],
   "source": [
    "a1 * a3"
   ]
  },
  {
   "cell_type": "code",
   "execution_count": 84,
   "id": "0637e301",
   "metadata": {},
   "outputs": [
    {
     "ename": "ValueError",
     "evalue": "operands could not be broadcast together with shapes (2,3) (2,3,3) ",
     "output_type": "error",
     "traceback": [
      "\u001b[0;31m---------------------------------------------------------------------------\u001b[0m",
      "\u001b[0;31mValueError\u001b[0m                                Traceback (most recent call last)",
      "Input \u001b[0;32mIn [84]\u001b[0m, in \u001b[0;36m<cell line: 1>\u001b[0;34m()\u001b[0m\n\u001b[0;32m----> 1\u001b[0m \u001b[43mones\u001b[49m\u001b[43m \u001b[49m\u001b[38;5;241;43m*\u001b[39;49m\u001b[43m \u001b[49m\u001b[43ma3\u001b[49m\n",
      "\u001b[0;31mValueError\u001b[0m: operands could not be broadcast together with shapes (2,3) (2,3,3) "
     ]
    }
   ],
   "source": [
    "ones * a3"
   ]
  },
  {
   "cell_type": "code",
   "execution_count": 110,
   "id": "0982b397",
   "metadata": {},
   "outputs": [],
   "source": [
    "a3_r = np.reshape(a3, (3,6))\n",
    "ones_r = np.reshape(ones,(2,3))"
   ]
  },
  {
   "cell_type": "code",
   "execution_count": 93,
   "id": "998e4596",
   "metadata": {},
   "outputs": [
    {
     "data": {
      "text/plain": [
       "array([[1, 2, 3],\n",
       "       [4, 5, 6]])"
      ]
     },
     "execution_count": 93,
     "metadata": {},
     "output_type": "execute_result"
    }
   ],
   "source": [
    "a = np.array([[1,2,3], [4,5,6]])\n",
    "a"
   ]
  },
  {
   "cell_type": "code",
   "execution_count": 98,
   "id": "85f853e6",
   "metadata": {},
   "outputs": [
    {
     "data": {
      "text/plain": [
       "array([1, 2, 3, 4, 5, 6])"
      ]
     },
     "execution_count": 98,
     "metadata": {},
     "output_type": "execute_result"
    }
   ],
   "source": [
    "np.reshape(a, 6)"
   ]
  },
  {
   "cell_type": "code",
   "execution_count": 111,
   "id": "152d7c85",
   "metadata": {},
   "outputs": [
    {
     "data": {
      "text/plain": [
       "array([[ 1,  2,  3,  4,  5,  6],\n",
       "       [ 7,  8,  9, 10, 11, 12],\n",
       "       [13, 14, 15, 16, 17, 18]])"
      ]
     },
     "execution_count": 111,
     "metadata": {},
     "output_type": "execute_result"
    }
   ],
   "source": [
    "a3_r"
   ]
  },
  {
   "cell_type": "code",
   "execution_count": 112,
   "id": "915db0a1",
   "metadata": {},
   "outputs": [
    {
     "ename": "ValueError",
     "evalue": "operands could not be broadcast together with shapes (2,3) (3,6) ",
     "output_type": "error",
     "traceback": [
      "\u001b[0;31m---------------------------------------------------------------------------\u001b[0m",
      "\u001b[0;31mValueError\u001b[0m                                Traceback (most recent call last)",
      "Input \u001b[0;32mIn [112]\u001b[0m, in \u001b[0;36m<cell line: 1>\u001b[0;34m()\u001b[0m\n\u001b[0;32m----> 1\u001b[0m \u001b[43mones_r\u001b[49m\u001b[43m \u001b[49m\u001b[38;5;241;43m*\u001b[39;49m\u001b[43m \u001b[49m\u001b[43ma3_r\u001b[49m\n",
      "\u001b[0;31mValueError\u001b[0m: operands could not be broadcast together with shapes (2,3) (3,6) "
     ]
    }
   ],
   "source": [
    "ones_r * a3_r"
   ]
  },
  {
   "cell_type": "code",
   "execution_count": 115,
   "id": "d0a2e6f6",
   "metadata": {},
   "outputs": [
    {
     "data": {
      "text/plain": [
       "array([[2. , 3. , 4.3],\n",
       "       [5. , 6. , 7.5]])"
      ]
     },
     "execution_count": 115,
     "metadata": {},
     "output_type": "execute_result"
    }
   ],
   "source": [
    "np.add(a2, ones)"
   ]
  },
  {
   "cell_type": "code",
   "execution_count": 116,
   "id": "433f29e9",
   "metadata": {},
   "outputs": [
    {
     "data": {
      "text/plain": [
       "array([[  1.   ,   8.   ,  35.937],\n",
       "       [ 64.   , 125.   , 274.625]])"
      ]
     },
     "execution_count": 116,
     "metadata": {},
     "output_type": "execute_result"
    }
   ],
   "source": [
    "a2 ** 3"
   ]
  },
  {
   "cell_type": "code",
   "execution_count": 117,
   "id": "e60a5c7d",
   "metadata": {},
   "outputs": [
    {
     "data": {
      "text/plain": [
       "array([[ 1.  ,  4.  , 10.89],\n",
       "       [16.  , 25.  , 42.25]])"
      ]
     },
     "execution_count": 117,
     "metadata": {},
     "output_type": "execute_result"
    }
   ],
   "source": [
    "np.square(a2)"
   ]
  },
  {
   "cell_type": "code",
   "execution_count": 118,
   "id": "e45ebdd4",
   "metadata": {},
   "outputs": [
    {
     "data": {
      "text/plain": [
       "array([[[2.71828183e+00, 7.38905610e+00, 2.00855369e+01],\n",
       "        [5.45981500e+01, 1.48413159e+02, 4.03428793e+02],\n",
       "        [1.09663316e+03, 2.98095799e+03, 8.10308393e+03]],\n",
       "\n",
       "       [[2.20264658e+04, 5.98741417e+04, 1.62754791e+05],\n",
       "        [4.42413392e+05, 1.20260428e+06, 3.26901737e+06],\n",
       "        [8.88611052e+06, 2.41549528e+07, 6.56599691e+07]]])"
      ]
     },
     "execution_count": 118,
     "metadata": {},
     "output_type": "execute_result"
    }
   ],
   "source": [
    "np.exp(a3)"
   ]
  },
  {
   "cell_type": "code",
   "execution_count": 121,
   "id": "fb2787cf",
   "metadata": {},
   "outputs": [
    {
     "data": {
      "text/plain": [
       "array([0.        , 0.69314718, 1.09861229])"
      ]
     },
     "execution_count": 121,
     "metadata": {},
     "output_type": "execute_result"
    }
   ],
   "source": [
    "np.log(a1)"
   ]
  },
  {
   "cell_type": "markdown",
   "id": "fbc068ed",
   "metadata": {},
   "source": [
    "### Aggregation\n",
    "\n",
    "- Performing the same operation on a number of things\n",
    "\n",
    "**Note**:\n",
    "\n",
    "We have few similar aggregation function like `sum()` and `np.sum()` in Python and NumPy respectively, but performance wise if we are using Python datatypes then we should Python methods, and if using NumPy arrays then use NumPy methods."
   ]
  },
  {
   "cell_type": "code",
   "execution_count": 123,
   "id": "bf942105",
   "metadata": {},
   "outputs": [
    {
     "data": {
      "text/plain": [
       "array([0.71265204, 0.2898204 , 0.34470835, ..., 0.23334221, 0.55538551,\n",
       "       0.25260799])"
      ]
     },
     "execution_count": 123,
     "metadata": {},
     "output_type": "execute_result"
    }
   ],
   "source": [
    "#Here is the demo\n",
    "\n",
    "#Let's have a million of numbers in a NumPy array\n",
    "\n",
    "numPy_array = np.random.random(100000)\n",
    "numPy_array"
   ]
  },
  {
   "cell_type": "code",
   "execution_count": 124,
   "id": "a4cfcb5d",
   "metadata": {},
   "outputs": [
    {
     "data": {
      "text/plain": [
       "array([0.71265204, 0.2898204 , 0.34470835, 0.8583901 , 0.72077621,\n",
       "       0.4327139 , 0.34589435, 0.64625829, 0.30117438, 0.70862502,\n",
       "       0.0445734 , 0.72750395, 0.87026624, 0.55807443, 0.55262931,\n",
       "       0.91417957, 0.2511074 , 0.1748569 , 0.41527139, 0.68182022,\n",
       "       0.53097735, 0.13390322, 0.12074312, 0.98923609, 0.39608697,\n",
       "       0.34471837, 0.30756052, 0.76526699, 0.52148673, 0.6959254 ,\n",
       "       0.32459372, 0.41118306, 0.13725254, 0.89720606, 0.46028216,\n",
       "       0.64631601, 0.13543793, 0.56235167, 0.78809991, 0.62043926,\n",
       "       0.40597389, 0.5678832 , 0.86988827, 0.2681938 , 0.25950238,\n",
       "       0.63550018, 0.93010283, 0.23511767, 0.67945488, 0.33749068,\n",
       "       0.08304605, 0.06018135, 0.91679486, 0.74853473, 0.46505627,\n",
       "       0.40927453, 0.8547085 , 0.86706013, 0.04393117, 0.42860816,\n",
       "       0.09456951, 0.80817867, 0.50281547, 0.83627038, 0.97571735,\n",
       "       0.155993  , 0.34465555, 0.65372342, 0.74054796, 0.79721262,\n",
       "       0.23143209, 0.42297401, 0.8235251 , 0.97592325, 0.13178794,\n",
       "       0.66849719, 0.08523734, 0.95117848, 0.47855998, 0.03656299,\n",
       "       0.14018199, 0.94276615, 0.39883337, 0.53955341, 0.30355542,\n",
       "       0.20163217, 0.62056543, 0.93875074, 0.8680043 , 0.59576324,\n",
       "       0.48432853, 0.01981495, 0.98196189, 0.52608115, 0.59711164,\n",
       "       0.81565511, 0.93038746, 0.47797746, 0.81565857, 0.195357  ])"
      ]
     },
     "execution_count": 124,
     "metadata": {},
     "output_type": "execute_result"
    }
   ],
   "source": [
    "# Take the first 100 to display\n",
    "numPy_array[:100]"
   ]
  },
  {
   "cell_type": "code",
   "execution_count": 125,
   "id": "1845ee6b",
   "metadata": {},
   "outputs": [
    {
     "name": "stdout",
     "output_type": "stream",
     "text": [
      "6.61 ms ± 65.7 µs per loop (mean ± std. dev. of 7 runs, 100 loops each)\n",
      "33.7 µs ± 181 ns per loop (mean ± std. dev. of 7 runs, 10,000 loops each)\n"
     ]
    }
   ],
   "source": [
    "# calculate the time of execution of both aggregation function\n",
    "\n",
    "%timeit sum(numPy_array)  # Python's sum()\n",
    "%timeit np.sum(numPy_array)  # NumPy's sum()"
   ]
  },
  {
   "cell_type": "code",
   "execution_count": 133,
   "id": "2d0e441a",
   "metadata": {},
   "outputs": [
    {
     "data": {
      "text/plain": [
       "6610.0"
      ]
     },
     "execution_count": 133,
     "metadata": {},
     "output_type": "execute_result"
    }
   ],
   "source": [
    "# Here we can the difference in execution\n",
    "# 1 millisecons = 1000 microseconds\n",
    "# so the python sum take, \n",
    "\n",
    "6.61 * 1000   # microseconds\n"
   ]
  },
  {
   "cell_type": "code",
   "execution_count": 132,
   "id": "f11dcaa1",
   "metadata": {},
   "outputs": [
    {
     "data": {
      "text/plain": [
       "197.65578635014836"
      ]
     },
     "execution_count": 132,
     "metadata": {},
     "output_type": "execute_result"
    }
   ],
   "source": [
    "#which is \n",
    "6661/33.7 #times "
   ]
  },
  {
   "cell_type": "markdown",
   "id": "b8c22dd6",
   "metadata": {},
   "source": [
    "### Some other aggregation methods"
   ]
  },
  {
   "cell_type": "code",
   "execution_count": 135,
   "id": "a942e5cf",
   "metadata": {},
   "outputs": [
    {
     "data": {
      "text/plain": [
       "array([[1. , 2. , 3.3],\n",
       "       [4. , 5. , 6.5]])"
      ]
     },
     "execution_count": 135,
     "metadata": {},
     "output_type": "execute_result"
    }
   ],
   "source": [
    "a2"
   ]
  },
  {
   "cell_type": "code",
   "execution_count": 136,
   "id": "08819a19",
   "metadata": {},
   "outputs": [
    {
     "data": {
      "text/plain": [
       "3.6333333333333333"
      ]
     },
     "execution_count": 136,
     "metadata": {},
     "output_type": "execute_result"
    }
   ],
   "source": [
    "# Calculates Mean = simple average of the numbers\n",
    "np.mean(a2)"
   ]
  },
  {
   "cell_type": "code",
   "execution_count": 137,
   "id": "14ced752",
   "metadata": {},
   "outputs": [
    {
     "data": {
      "text/plain": [
       "3.3222222222222224"
      ]
     },
     "execution_count": 137,
     "metadata": {},
     "output_type": "execute_result"
    }
   ],
   "source": [
    "# Variance = average of the squared differences from the Mean\n",
    "np.var(a2)"
   ]
  },
  {
   "cell_type": "code",
   "execution_count": 142,
   "id": "1703ded8",
   "metadata": {},
   "outputs": [
    {
     "data": {
      "text/plain": [
       "1.8226964152656422"
      ]
     },
     "execution_count": 142,
     "metadata": {},
     "output_type": "execute_result"
    }
   ],
   "source": [
    "# Standarad Deviation = measure of how Spread out numbers are\n",
    "np.std(a2)"
   ]
  },
  {
   "cell_type": "code",
   "execution_count": 141,
   "id": "72ab1be6",
   "metadata": {},
   "outputs": [
    {
     "data": {
      "text/plain": [
       "1.8226964152656422"
      ]
     },
     "execution_count": 141,
     "metadata": {},
     "output_type": "execute_result"
    }
   ],
   "source": [
    "# Standard Deviation = sqrt of Variance\n",
    "np.sqrt(np.var(a2))"
   ]
  },
  {
   "cell_type": "code",
   "execution_count": 139,
   "id": "9efd180e",
   "metadata": {},
   "outputs": [
    {
     "data": {
      "text/plain": [
       "1.0"
      ]
     },
     "execution_count": 139,
     "metadata": {},
     "output_type": "execute_result"
    }
   ],
   "source": [
    "np.min(a2)"
   ]
  },
  {
   "cell_type": "markdown",
   "id": "55770ba5",
   "metadata": {},
   "source": [
    "### Standard Deviation and Variance\n",
    "\n",
    "https://www.mathsisfun.com/data/standard-deviation.html\n",
    "\n",
    "To calculate STD, first need to calculate Variance which is derived after Mean\n",
    "\n",
    "Suppose we have array = [2,4,8,15,20]"
   ]
  },
  {
   "cell_type": "code",
   "execution_count": 144,
   "id": "9a08eee9",
   "metadata": {},
   "outputs": [
    {
     "data": {
      "text/plain": [
       "array([ 2,  4,  8, 15, 20])"
      ]
     },
     "execution_count": 144,
     "metadata": {},
     "output_type": "execute_result"
    }
   ],
   "source": [
    "a = np.array([2,4,8,15,20])\n",
    "a"
   ]
  },
  {
   "cell_type": "code",
   "execution_count": 145,
   "id": "a255c147",
   "metadata": {},
   "outputs": [
    {
     "data": {
      "text/plain": [
       "9.8"
      ]
     },
     "execution_count": 145,
     "metadata": {},
     "output_type": "execute_result"
    }
   ],
   "source": [
    "# Calculate Mean, simple average of numbers\n",
    "\n",
    "np.sum(a) / a.size # performing maths"
   ]
  },
  {
   "cell_type": "code",
   "execution_count": 146,
   "id": "b0bd7095",
   "metadata": {},
   "outputs": [
    {
     "data": {
      "text/plain": [
       "9.8"
      ]
     },
     "execution_count": 146,
     "metadata": {},
     "output_type": "execute_result"
    }
   ],
   "source": [
    "np.mean(a) # using NumPy's method"
   ]
  },
  {
   "cell_type": "code",
   "execution_count": 151,
   "id": "a87880f4",
   "metadata": {},
   "outputs": [
    {
     "data": {
      "text/plain": [
       "(45.760000000000005, 45.760000000000005)"
      ]
     },
     "execution_count": 151,
     "metadata": {},
     "output_type": "execute_result"
    }
   ],
   "source": [
    "# Next step is to Calculate Variance, \n",
    "# formula for Variance is, average of square of differences of each numbers from the Mean\n",
    "\n",
    "# So, the Variance is, \n",
    "\n",
    "# Simple Maths                                          # Numpy\n",
    "np.mean(np.square(np.subtract(a,np.mean(a)))) , np.var(a)"
   ]
  },
  {
   "cell_type": "code",
   "execution_count": 152,
   "id": "e3697764",
   "metadata": {},
   "outputs": [
    {
     "data": {
      "text/plain": [
       "(6.764613810115105, 6.764613810115105)"
      ]
     },
     "execution_count": 152,
     "metadata": {},
     "output_type": "execute_result"
    }
   ],
   "source": [
    "# Final Step is Standard Deviation\n",
    "# Square root of Variance\n",
    "\n",
    "    # Maths         # NumPy\n",
    "np.sqrt(np.var(a)), np.std(a)"
   ]
  },
  {
   "cell_type": "markdown",
   "id": "3500afdd",
   "metadata": {},
   "source": [
    "### Reshape and Transpose\n",
    "\n",
    "reshape() -> \n",
    "- it reshapes the array into the passed new shape, \n",
    "- new shape is dependent on the existing shape and number of elements in the array\n",
    "- reshape can be used to transform the array to make compatible with other arrays and perform some operations on them\n",
    "\n"
   ]
  },
  {
   "cell_type": "code",
   "execution_count": 153,
   "id": "e8153135",
   "metadata": {},
   "outputs": [
    {
     "data": {
      "text/plain": [
       "array([[[ 1,  2,  3],\n",
       "        [ 4,  5,  6],\n",
       "        [ 7,  8,  9]],\n",
       "\n",
       "       [[10, 11, 12],\n",
       "        [13, 14, 15],\n",
       "        [16, 17, 18]]])"
      ]
     },
     "execution_count": 153,
     "metadata": {},
     "output_type": "execute_result"
    }
   ],
   "source": [
    "a3"
   ]
  },
  {
   "cell_type": "code",
   "execution_count": 154,
   "id": "c6cc3025",
   "metadata": {},
   "outputs": [
    {
     "data": {
      "text/plain": [
       "array([[1. , 2. , 3.3],\n",
       "       [4. , 5. , 6.5]])"
      ]
     },
     "execution_count": 154,
     "metadata": {},
     "output_type": "execute_result"
    }
   ],
   "source": [
    "a2"
   ]
  },
  {
   "cell_type": "code",
   "execution_count": 155,
   "id": "c85bb569",
   "metadata": {},
   "outputs": [
    {
     "ename": "ValueError",
     "evalue": "operands could not be broadcast together with shapes (2,3) (2,3,3) ",
     "output_type": "error",
     "traceback": [
      "\u001b[0;31m---------------------------------------------------------------------------\u001b[0m",
      "\u001b[0;31mValueError\u001b[0m                                Traceback (most recent call last)",
      "Input \u001b[0;32mIn [155]\u001b[0m, in \u001b[0;36m<cell line: 1>\u001b[0;34m()\u001b[0m\n\u001b[0;32m----> 1\u001b[0m \u001b[43ma2\u001b[49m\u001b[43m \u001b[49m\u001b[38;5;241;43m*\u001b[39;49m\u001b[43m \u001b[49m\u001b[43ma3\u001b[49m\n",
      "\u001b[0;31mValueError\u001b[0m: operands could not be broadcast together with shapes (2,3) (2,3,3) "
     ]
    }
   ],
   "source": [
    "a2 * a3"
   ]
  },
  {
   "cell_type": "code",
   "execution_count": 156,
   "id": "a4cad58e",
   "metadata": {},
   "outputs": [],
   "source": [
    "a2_r = np.reshape(a2, (2,3,1)) \n",
    "# There is a rule of NumPy's broadcasting that either both array should be same in shape, or one of them should have 1\n",
    "# so reshaping it to 1"
   ]
  },
  {
   "cell_type": "code",
   "execution_count": 157,
   "id": "03abfa44",
   "metadata": {},
   "outputs": [
    {
     "data": {
      "text/plain": [
       "array([[[1. ],\n",
       "        [2. ],\n",
       "        [3.3]],\n",
       "\n",
       "       [[4. ],\n",
       "        [5. ],\n",
       "        [6.5]]])"
      ]
     },
     "execution_count": 157,
     "metadata": {},
     "output_type": "execute_result"
    }
   ],
   "source": [
    "a2_r"
   ]
  },
  {
   "cell_type": "code",
   "execution_count": 158,
   "id": "363cd39e",
   "metadata": {},
   "outputs": [
    {
     "data": {
      "text/plain": [
       "array([[[  1. ,   2. ,   3. ],\n",
       "        [  8. ,  10. ,  12. ],\n",
       "        [ 23.1,  26.4,  29.7]],\n",
       "\n",
       "       [[ 40. ,  44. ,  48. ],\n",
       "        [ 65. ,  70. ,  75. ],\n",
       "        [104. , 110.5, 117. ]]])"
      ]
     },
     "execution_count": 158,
     "metadata": {},
     "output_type": "execute_result"
    }
   ],
   "source": [
    "a2_r * a3"
   ]
  },
  {
   "cell_type": "markdown",
   "id": "d4710643",
   "metadata": {},
   "source": [
    "##### T = transposing the matrix / array\n",
    "- switches the shape of the array, \n",
    "- if original is (2,3), then after Transpose will be (3,2)\n"
   ]
  },
  {
   "cell_type": "code",
   "execution_count": 159,
   "id": "23a7fd56",
   "metadata": {},
   "outputs": [
    {
     "data": {
      "text/plain": [
       "(2, 3)"
      ]
     },
     "execution_count": 159,
     "metadata": {},
     "output_type": "execute_result"
    }
   ],
   "source": [
    "a2.shape"
   ]
  },
  {
   "cell_type": "code",
   "execution_count": 160,
   "id": "85f458ad",
   "metadata": {},
   "outputs": [
    {
     "data": {
      "text/plain": [
       "array([[1. , 4. ],\n",
       "       [2. , 5. ],\n",
       "       [3.3, 6.5]])"
      ]
     },
     "execution_count": 160,
     "metadata": {},
     "output_type": "execute_result"
    }
   ],
   "source": [
    "a2.T"
   ]
  },
  {
   "cell_type": "code",
   "execution_count": 161,
   "id": "455625df",
   "metadata": {},
   "outputs": [
    {
     "data": {
      "text/plain": [
       "(3, 2)"
      ]
     },
     "execution_count": 161,
     "metadata": {},
     "output_type": "execute_result"
    }
   ],
   "source": [
    "a2.T.shape"
   ]
  },
  {
   "cell_type": "markdown",
   "id": "bc7b7d5f",
   "metadata": {},
   "source": [
    "#### Use case of Transpose :\n",
    "\n",
    "### Dot Product\n",
    "\n",
    "There are two types of matrix multiplication\n",
    "   - Element Wise \n",
    "   - Dot Product\n",
    "    \n",
    "Element Wise is a simple mupliplication using `np.multiply()` or `a1 * a2`\n",
    "\n",
    "Dot Product is something like, suppose we have matrix of shape (3,2) and (2,3)\n",
    "\n",
    "Then, the result matrix of dot product of these two matrices will be (3,3) <-- outside size of both matrices\n",
    "\n",
    "and two matrices will only be eligible for Dot Product when the inside size is same,\n",
    "\n",
    "if we say, a1 = (r1,c1) & a2 = (r2,c2)\n",
    "\n",
    "So, `if c1 == r2:` then `dot(a1,a2)`\n",
    "        \n",
    "and, `dot(a1,a2).shape = (r1,c2)`\n",
    "\n",
    "\n",
    "https://www.mathsisfun.com/algebra/matrix-multiplying.html"
   ]
  },
  {
   "cell_type": "code",
   "execution_count": 4,
   "id": "34b5b9c5",
   "metadata": {},
   "outputs": [
    {
     "data": {
      "text/plain": [
       "(array([[5, 0, 3],\n",
       "        [3, 7, 9],\n",
       "        [3, 5, 2],\n",
       "        [4, 7, 6],\n",
       "        [8, 8, 1]]),\n",
       " array([[6, 7, 7],\n",
       "        [8, 1, 5],\n",
       "        [9, 8, 9],\n",
       "        [4, 3, 0],\n",
       "        [3, 5, 0]]))"
      ]
     },
     "execution_count": 4,
     "metadata": {},
     "output_type": "execute_result"
    }
   ],
   "source": [
    "np.random.seed(0)\n",
    "\n",
    "mat1 = np.random.randint(0, 10, size = (5,3))\n",
    "mat2 = np.random.randint(0, 10, size=(5,3))\n",
    "\n",
    "mat1, mat2"
   ]
  },
  {
   "cell_type": "code",
   "execution_count": 5,
   "id": "ae8daa09",
   "metadata": {},
   "outputs": [
    {
     "ename": "ValueError",
     "evalue": "shapes (5,3) and (5,3) not aligned: 3 (dim 1) != 5 (dim 0)",
     "output_type": "error",
     "traceback": [
      "\u001b[0;31m---------------------------------------------------------------------------\u001b[0m",
      "\u001b[0;31mValueError\u001b[0m                                Traceback (most recent call last)",
      "Input \u001b[0;32mIn [5]\u001b[0m, in \u001b[0;36m<cell line: 1>\u001b[0;34m()\u001b[0m\n\u001b[0;32m----> 1\u001b[0m \u001b[43mnp\u001b[49m\u001b[38;5;241;43m.\u001b[39;49m\u001b[43mdot\u001b[49m\u001b[43m(\u001b[49m\u001b[43mmat1\u001b[49m\u001b[43m,\u001b[49m\u001b[43mmat2\u001b[49m\u001b[43m)\u001b[49m\n",
      "File \u001b[0;32m<__array_function__ internals>:5\u001b[0m, in \u001b[0;36mdot\u001b[0;34m(*args, **kwargs)\u001b[0m\n",
      "\u001b[0;31mValueError\u001b[0m: shapes (5,3) and (5,3) not aligned: 3 (dim 1) != 5 (dim 0)"
     ]
    }
   ],
   "source": [
    "np.dot(mat1,mat2)"
   ]
  },
  {
   "cell_type": "code",
   "execution_count": 6,
   "id": "6bf192c5",
   "metadata": {},
   "outputs": [
    {
     "data": {
      "text/plain": [
       "array([[ 51,  55,  72,  20,  15],\n",
       "       [130,  76, 164,  33,  44],\n",
       "       [ 67,  39,  85,  27,  34],\n",
       "       [115,  69, 146,  37,  47],\n",
       "       [111,  77, 145,  56,  64]])"
      ]
     },
     "execution_count": 6,
     "metadata": {},
     "output_type": "execute_result"
    }
   ],
   "source": [
    "np.dot(mat1,mat2.T)"
   ]
  },
  {
   "cell_type": "code",
   "execution_count": 7,
   "id": "06a69556",
   "metadata": {},
   "outputs": [
    {
     "data": {
      "text/plain": [
       "(3, 5)"
      ]
     },
     "execution_count": 7,
     "metadata": {},
     "output_type": "execute_result"
    }
   ],
   "source": [
    "mat2.T.shape"
   ]
  },
  {
   "cell_type": "markdown",
   "id": "248f7443",
   "metadata": {},
   "source": [
    "## Nut Butter Store Sales - Exercise\n",
    "\n",
    "Problem\n",
    "- Calculate the weekly total sales of the 3 types of butter\n",
    "\n",
    "Create,(mostly given but for practice we'll create by numpy)\n",
    "- Number of boxes sold each day of the week for each butter\n",
    "- Prices of 1 box of butter of each butter\n",
    "\n",
    "Use\n",
    "- Pandas dataframe\n",
    "- NumPy methods"
   ]
  },
  {
   "cell_type": "code",
   "execution_count": 8,
   "id": "4f324b5c",
   "metadata": {},
   "outputs": [
    {
     "data": {
      "text/plain": [
       "array([[18,  3, 17],\n",
       "       [19, 19, 19],\n",
       "       [14,  7,  0],\n",
       "       [ 1,  9,  0],\n",
       "       [10,  3, 11]])"
      ]
     },
     "execution_count": 8,
     "metadata": {},
     "output_type": "execute_result"
    }
   ],
   "source": [
    "# Create a ndarray first\n",
    "sales_array = np.random.randint(20, size=(5,3))\n",
    "price_array = np.array([8,10,16])\n",
    "\n",
    "sales_array"
   ]
  },
  {
   "cell_type": "code",
   "execution_count": 12,
   "id": "9db76f9d",
   "metadata": {},
   "outputs": [],
   "source": [
    "week_array = np.array([\"Mon\",\"Tue\",\"Wed\",\"Thu\",\"Fri\"])\n",
    "butter_array = np.array([\"Almond Butter\", \"Peanut Butter\", \"Cashew Butter\"])"
   ]
  },
  {
   "cell_type": "code",
   "execution_count": 9,
   "id": "a8b66978",
   "metadata": {},
   "outputs": [
    {
     "data": {
      "text/plain": [
       "array([ 8, 10, 16])"
      ]
     },
     "execution_count": 9,
     "metadata": {},
     "output_type": "execute_result"
    }
   ],
   "source": [
    "price_array"
   ]
  },
  {
   "cell_type": "code",
   "execution_count": 2,
   "id": "1b9a03df",
   "metadata": {},
   "outputs": [],
   "source": [
    "# Import pandas\n",
    "import pandas as pd"
   ]
  },
  {
   "cell_type": "code",
   "execution_count": 13,
   "id": "c5f16825",
   "metadata": {},
   "outputs": [
    {
     "data": {
      "text/plain": [
       "(array(['Mon', 'Tue', 'Wed', 'Thu', 'Fri'], dtype='<U3'),\n",
       " array(['Almond Butter', 'Peanut Butter', 'Cashew Butter'], dtype='<U13'))"
      ]
     },
     "execution_count": 13,
     "metadata": {},
     "output_type": "execute_result"
    }
   ],
   "source": [
    "week_array, butter_array"
   ]
  },
  {
   "cell_type": "code",
   "execution_count": 14,
   "id": "13ea53f4",
   "metadata": {},
   "outputs": [
    {
     "data": {
      "text/html": [
       "<div>\n",
       "<style scoped>\n",
       "    .dataframe tbody tr th:only-of-type {\n",
       "        vertical-align: middle;\n",
       "    }\n",
       "\n",
       "    .dataframe tbody tr th {\n",
       "        vertical-align: top;\n",
       "    }\n",
       "\n",
       "    .dataframe thead th {\n",
       "        text-align: right;\n",
       "    }\n",
       "</style>\n",
       "<table border=\"1\" class=\"dataframe\">\n",
       "  <thead>\n",
       "    <tr style=\"text-align: right;\">\n",
       "      <th></th>\n",
       "      <th>Almond Butter</th>\n",
       "      <th>Peanut Butter</th>\n",
       "      <th>Cashew Butter</th>\n",
       "    </tr>\n",
       "  </thead>\n",
       "  <tbody>\n",
       "    <tr>\n",
       "      <th>Mon</th>\n",
       "      <td>18</td>\n",
       "      <td>3</td>\n",
       "      <td>17</td>\n",
       "    </tr>\n",
       "    <tr>\n",
       "      <th>Tue</th>\n",
       "      <td>19</td>\n",
       "      <td>19</td>\n",
       "      <td>19</td>\n",
       "    </tr>\n",
       "    <tr>\n",
       "      <th>Wed</th>\n",
       "      <td>14</td>\n",
       "      <td>7</td>\n",
       "      <td>0</td>\n",
       "    </tr>\n",
       "    <tr>\n",
       "      <th>Thu</th>\n",
       "      <td>1</td>\n",
       "      <td>9</td>\n",
       "      <td>0</td>\n",
       "    </tr>\n",
       "    <tr>\n",
       "      <th>Fri</th>\n",
       "      <td>10</td>\n",
       "      <td>3</td>\n",
       "      <td>11</td>\n",
       "    </tr>\n",
       "  </tbody>\n",
       "</table>\n",
       "</div>"
      ],
      "text/plain": [
       "     Almond Butter  Peanut Butter  Cashew Butter\n",
       "Mon             18              3             17\n",
       "Tue             19             19             19\n",
       "Wed             14              7              0\n",
       "Thu              1              9              0\n",
       "Fri             10              3             11"
      ]
     },
     "execution_count": 14,
     "metadata": {},
     "output_type": "execute_result"
    }
   ],
   "source": [
    "# create dataframes\n",
    "sales_df = pd.DataFrame(sales_array,index=week_array, columns=butter_array)\n",
    "sales_df"
   ]
  },
  {
   "cell_type": "code",
   "execution_count": 21,
   "id": "ed7f5d30",
   "metadata": {},
   "outputs": [
    {
     "ename": "ValueError",
     "evalue": "Shape of passed values is (3, 1), indices imply (1, 3)",
     "output_type": "error",
     "traceback": [
      "\u001b[0;31m---------------------------------------------------------------------------\u001b[0m",
      "\u001b[0;31mValueError\u001b[0m                                Traceback (most recent call last)",
      "Input \u001b[0;32mIn [21]\u001b[0m, in \u001b[0;36m<cell line: 1>\u001b[0;34m()\u001b[0m\n\u001b[0;32m----> 1\u001b[0m price_df \u001b[38;5;241m=\u001b[39m \u001b[43mpd\u001b[49m\u001b[38;5;241;43m.\u001b[39;49m\u001b[43mDataFrame\u001b[49m\u001b[43m(\u001b[49m\u001b[43mprice_array\u001b[49m\u001b[43m,\u001b[49m\u001b[43m \u001b[49m\u001b[43mindex\u001b[49m\u001b[38;5;241;43m=\u001b[39;49m\u001b[43m[\u001b[49m\u001b[38;5;124;43m\"\u001b[39;49m\u001b[38;5;124;43mPrice\u001b[39;49m\u001b[38;5;124;43m\"\u001b[39;49m\u001b[43m]\u001b[49m\u001b[43m,\u001b[49m\u001b[43m \u001b[49m\u001b[43mcolumns\u001b[49m\u001b[38;5;241;43m=\u001b[39;49m\u001b[43mbutter_array\u001b[49m\u001b[43m)\u001b[49m\n",
      "File \u001b[0;32m~/Desktop/Work/Learn/DataScience/sample_project/env/lib/python3.10/site-packages/pandas/core/frame.py:694\u001b[0m, in \u001b[0;36mDataFrame.__init__\u001b[0;34m(self, data, index, columns, dtype, copy)\u001b[0m\n\u001b[1;32m    684\u001b[0m         mgr \u001b[38;5;241m=\u001b[39m dict_to_mgr(\n\u001b[1;32m    685\u001b[0m             \u001b[38;5;66;03m# error: Item \"ndarray\" of \"Union[ndarray, Series, Index]\" has no\u001b[39;00m\n\u001b[1;32m    686\u001b[0m             \u001b[38;5;66;03m# attribute \"name\"\u001b[39;00m\n\u001b[0;32m   (...)\u001b[0m\n\u001b[1;32m    691\u001b[0m             typ\u001b[38;5;241m=\u001b[39mmanager,\n\u001b[1;32m    692\u001b[0m         )\n\u001b[1;32m    693\u001b[0m     \u001b[38;5;28;01melse\u001b[39;00m:\n\u001b[0;32m--> 694\u001b[0m         mgr \u001b[38;5;241m=\u001b[39m \u001b[43mndarray_to_mgr\u001b[49m\u001b[43m(\u001b[49m\n\u001b[1;32m    695\u001b[0m \u001b[43m            \u001b[49m\u001b[43mdata\u001b[49m\u001b[43m,\u001b[49m\n\u001b[1;32m    696\u001b[0m \u001b[43m            \u001b[49m\u001b[43mindex\u001b[49m\u001b[43m,\u001b[49m\n\u001b[1;32m    697\u001b[0m \u001b[43m            \u001b[49m\u001b[43mcolumns\u001b[49m\u001b[43m,\u001b[49m\n\u001b[1;32m    698\u001b[0m \u001b[43m            \u001b[49m\u001b[43mdtype\u001b[49m\u001b[38;5;241;43m=\u001b[39;49m\u001b[43mdtype\u001b[49m\u001b[43m,\u001b[49m\n\u001b[1;32m    699\u001b[0m \u001b[43m            \u001b[49m\u001b[43mcopy\u001b[49m\u001b[38;5;241;43m=\u001b[39;49m\u001b[43mcopy\u001b[49m\u001b[43m,\u001b[49m\n\u001b[1;32m    700\u001b[0m \u001b[43m            \u001b[49m\u001b[43mtyp\u001b[49m\u001b[38;5;241;43m=\u001b[39;49m\u001b[43mmanager\u001b[49m\u001b[43m,\u001b[49m\n\u001b[1;32m    701\u001b[0m \u001b[43m        \u001b[49m\u001b[43m)\u001b[49m\n\u001b[1;32m    703\u001b[0m \u001b[38;5;66;03m# For data is list-like, or Iterable (will consume into list)\u001b[39;00m\n\u001b[1;32m    704\u001b[0m \u001b[38;5;28;01melif\u001b[39;00m is_list_like(data):\n",
      "File \u001b[0;32m~/Desktop/Work/Learn/DataScience/sample_project/env/lib/python3.10/site-packages/pandas/core/internals/construction.py:351\u001b[0m, in \u001b[0;36mndarray_to_mgr\u001b[0;34m(values, index, columns, dtype, copy, typ)\u001b[0m\n\u001b[1;32m    346\u001b[0m \u001b[38;5;66;03m# _prep_ndarray ensures that values.ndim == 2 at this point\u001b[39;00m\n\u001b[1;32m    347\u001b[0m index, columns \u001b[38;5;241m=\u001b[39m _get_axes(\n\u001b[1;32m    348\u001b[0m     values\u001b[38;5;241m.\u001b[39mshape[\u001b[38;5;241m0\u001b[39m], values\u001b[38;5;241m.\u001b[39mshape[\u001b[38;5;241m1\u001b[39m], index\u001b[38;5;241m=\u001b[39mindex, columns\u001b[38;5;241m=\u001b[39mcolumns\n\u001b[1;32m    349\u001b[0m )\n\u001b[0;32m--> 351\u001b[0m \u001b[43m_check_values_indices_shape_match\u001b[49m\u001b[43m(\u001b[49m\u001b[43mvalues\u001b[49m\u001b[43m,\u001b[49m\u001b[43m \u001b[49m\u001b[43mindex\u001b[49m\u001b[43m,\u001b[49m\u001b[43m \u001b[49m\u001b[43mcolumns\u001b[49m\u001b[43m)\u001b[49m\n\u001b[1;32m    353\u001b[0m \u001b[38;5;28;01mif\u001b[39;00m typ \u001b[38;5;241m==\u001b[39m \u001b[38;5;124m\"\u001b[39m\u001b[38;5;124marray\u001b[39m\u001b[38;5;124m\"\u001b[39m:\n\u001b[1;32m    355\u001b[0m     \u001b[38;5;28;01mif\u001b[39;00m \u001b[38;5;28missubclass\u001b[39m(values\u001b[38;5;241m.\u001b[39mdtype\u001b[38;5;241m.\u001b[39mtype, \u001b[38;5;28mstr\u001b[39m):\n",
      "File \u001b[0;32m~/Desktop/Work/Learn/DataScience/sample_project/env/lib/python3.10/site-packages/pandas/core/internals/construction.py:422\u001b[0m, in \u001b[0;36m_check_values_indices_shape_match\u001b[0;34m(values, index, columns)\u001b[0m\n\u001b[1;32m    420\u001b[0m passed \u001b[38;5;241m=\u001b[39m values\u001b[38;5;241m.\u001b[39mshape\n\u001b[1;32m    421\u001b[0m implied \u001b[38;5;241m=\u001b[39m (\u001b[38;5;28mlen\u001b[39m(index), \u001b[38;5;28mlen\u001b[39m(columns))\n\u001b[0;32m--> 422\u001b[0m \u001b[38;5;28;01mraise\u001b[39;00m \u001b[38;5;167;01mValueError\u001b[39;00m(\u001b[38;5;124mf\u001b[39m\u001b[38;5;124m\"\u001b[39m\u001b[38;5;124mShape of passed values is \u001b[39m\u001b[38;5;132;01m{\u001b[39;00mpassed\u001b[38;5;132;01m}\u001b[39;00m\u001b[38;5;124m, indices imply \u001b[39m\u001b[38;5;132;01m{\u001b[39;00mimplied\u001b[38;5;132;01m}\u001b[39;00m\u001b[38;5;124m\"\u001b[39m)\n",
      "\u001b[0;31mValueError\u001b[0m: Shape of passed values is (3, 1), indices imply (1, 3)"
     ]
    }
   ],
   "source": [
    "price_df = pd.DataFrame(price_array, index=[\"Price\"], columns=butter_array)"
   ]
  },
  {
   "cell_type": "code",
   "execution_count": 16,
   "id": "a6a74f6c",
   "metadata": {},
   "outputs": [],
   "source": [
    "# Above is not working because shape of price_array is (3,) and DataFrame is expecting to be (3,1)\n",
    "# So, we will reshape it \n",
    "price_array_reshape = price_array.reshape(3,1)"
   ]
  },
  {
   "cell_type": "code",
   "execution_count": 19,
   "id": "0b60e5f7",
   "metadata": {},
   "outputs": [
    {
     "data": {
      "text/plain": [
       "(3, 1)"
      ]
     },
     "execution_count": 19,
     "metadata": {},
     "output_type": "execute_result"
    }
   ],
   "source": [
    "price_array_reshape.shape"
   ]
  },
  {
   "cell_type": "code",
   "execution_count": 23,
   "id": "278717c6",
   "metadata": {},
   "outputs": [],
   "source": [
    "# Only reshaping it doesn't work, so to make it compatible, Transposing the matrix\n",
    "price_df = pd.DataFrame(price_array_reshape.T, index=[\"Price\"], columns=butter_array)"
   ]
  },
  {
   "cell_type": "code",
   "execution_count": 24,
   "id": "5bf93750",
   "metadata": {},
   "outputs": [
    {
     "data": {
      "text/html": [
       "<div>\n",
       "<style scoped>\n",
       "    .dataframe tbody tr th:only-of-type {\n",
       "        vertical-align: middle;\n",
       "    }\n",
       "\n",
       "    .dataframe tbody tr th {\n",
       "        vertical-align: top;\n",
       "    }\n",
       "\n",
       "    .dataframe thead th {\n",
       "        text-align: right;\n",
       "    }\n",
       "</style>\n",
       "<table border=\"1\" class=\"dataframe\">\n",
       "  <thead>\n",
       "    <tr style=\"text-align: right;\">\n",
       "      <th></th>\n",
       "      <th>Almond Butter</th>\n",
       "      <th>Peanut Butter</th>\n",
       "      <th>Cashew Butter</th>\n",
       "    </tr>\n",
       "  </thead>\n",
       "  <tbody>\n",
       "    <tr>\n",
       "      <th>Price</th>\n",
       "      <td>8</td>\n",
       "      <td>10</td>\n",
       "      <td>16</td>\n",
       "    </tr>\n",
       "  </tbody>\n",
       "</table>\n",
       "</div>"
      ],
      "text/plain": [
       "       Almond Butter  Peanut Butter  Cashew Butter\n",
       "Price              8             10             16"
      ]
     },
     "execution_count": 24,
     "metadata": {},
     "output_type": "execute_result"
    }
   ],
   "source": [
    "price_df"
   ]
  },
  {
   "cell_type": "code",
   "execution_count": 25,
   "id": "3173f146",
   "metadata": {},
   "outputs": [
    {
     "data": {
      "text/html": [
       "<div>\n",
       "<style scoped>\n",
       "    .dataframe tbody tr th:only-of-type {\n",
       "        vertical-align: middle;\n",
       "    }\n",
       "\n",
       "    .dataframe tbody tr th {\n",
       "        vertical-align: top;\n",
       "    }\n",
       "\n",
       "    .dataframe thead th {\n",
       "        text-align: right;\n",
       "    }\n",
       "</style>\n",
       "<table border=\"1\" class=\"dataframe\">\n",
       "  <thead>\n",
       "    <tr style=\"text-align: right;\">\n",
       "      <th></th>\n",
       "      <th>Almond Butter</th>\n",
       "      <th>Peanut Butter</th>\n",
       "      <th>Cashew Butter</th>\n",
       "    </tr>\n",
       "  </thead>\n",
       "  <tbody>\n",
       "    <tr>\n",
       "      <th>Mon</th>\n",
       "      <td>18</td>\n",
       "      <td>3</td>\n",
       "      <td>17</td>\n",
       "    </tr>\n",
       "    <tr>\n",
       "      <th>Tue</th>\n",
       "      <td>19</td>\n",
       "      <td>19</td>\n",
       "      <td>19</td>\n",
       "    </tr>\n",
       "    <tr>\n",
       "      <th>Wed</th>\n",
       "      <td>14</td>\n",
       "      <td>7</td>\n",
       "      <td>0</td>\n",
       "    </tr>\n",
       "    <tr>\n",
       "      <th>Thu</th>\n",
       "      <td>1</td>\n",
       "      <td>9</td>\n",
       "      <td>0</td>\n",
       "    </tr>\n",
       "    <tr>\n",
       "      <th>Fri</th>\n",
       "      <td>10</td>\n",
       "      <td>3</td>\n",
       "      <td>11</td>\n",
       "    </tr>\n",
       "  </tbody>\n",
       "</table>\n",
       "</div>"
      ],
      "text/plain": [
       "     Almond Butter  Peanut Butter  Cashew Butter\n",
       "Mon             18              3             17\n",
       "Tue             19             19             19\n",
       "Wed             14              7              0\n",
       "Thu              1              9              0\n",
       "Fri             10              3             11"
      ]
     },
     "execution_count": 25,
     "metadata": {},
     "output_type": "execute_result"
    }
   ],
   "source": [
    "sales_df"
   ]
  },
  {
   "cell_type": "code",
   "execution_count": 26,
   "id": "6dee9d3d",
   "metadata": {},
   "outputs": [
    {
     "ename": "ValueError",
     "evalue": "matrices are not aligned",
     "output_type": "error",
     "traceback": [
      "\u001b[0;31m---------------------------------------------------------------------------\u001b[0m",
      "\u001b[0;31mValueError\u001b[0m                                Traceback (most recent call last)",
      "Input \u001b[0;32mIn [26]\u001b[0m, in \u001b[0;36m<cell line: 2>\u001b[0;34m()\u001b[0m\n\u001b[1;32m      1\u001b[0m \u001b[38;5;66;03m# Now we need to calculate the dot product as Total sales of each day of the week\u001b[39;00m\n\u001b[0;32m----> 2\u001b[0m total_sales \u001b[38;5;241m=\u001b[39m \u001b[43msales_df\u001b[49m\u001b[38;5;241;43m.\u001b[39;49m\u001b[43mdot\u001b[49m\u001b[43m(\u001b[49m\u001b[43mprice_df\u001b[49m\u001b[43m)\u001b[49m\n",
      "File \u001b[0;32m~/Desktop/Work/Learn/DataScience/sample_project/env/lib/python3.10/site-packages/pandas/core/frame.py:1507\u001b[0m, in \u001b[0;36mDataFrame.dot\u001b[0;34m(self, other)\u001b[0m\n\u001b[1;32m   1505\u001b[0m common \u001b[38;5;241m=\u001b[39m \u001b[38;5;28mself\u001b[39m\u001b[38;5;241m.\u001b[39mcolumns\u001b[38;5;241m.\u001b[39munion(other\u001b[38;5;241m.\u001b[39mindex)\n\u001b[1;32m   1506\u001b[0m \u001b[38;5;28;01mif\u001b[39;00m \u001b[38;5;28mlen\u001b[39m(common) \u001b[38;5;241m>\u001b[39m \u001b[38;5;28mlen\u001b[39m(\u001b[38;5;28mself\u001b[39m\u001b[38;5;241m.\u001b[39mcolumns) \u001b[38;5;129;01mor\u001b[39;00m \u001b[38;5;28mlen\u001b[39m(common) \u001b[38;5;241m>\u001b[39m \u001b[38;5;28mlen\u001b[39m(other\u001b[38;5;241m.\u001b[39mindex):\n\u001b[0;32m-> 1507\u001b[0m     \u001b[38;5;28;01mraise\u001b[39;00m \u001b[38;5;167;01mValueError\u001b[39;00m(\u001b[38;5;124m\"\u001b[39m\u001b[38;5;124mmatrices are not aligned\u001b[39m\u001b[38;5;124m\"\u001b[39m)\n\u001b[1;32m   1509\u001b[0m left \u001b[38;5;241m=\u001b[39m \u001b[38;5;28mself\u001b[39m\u001b[38;5;241m.\u001b[39mreindex(columns\u001b[38;5;241m=\u001b[39mcommon, copy\u001b[38;5;241m=\u001b[39m\u001b[38;5;28;01mFalse\u001b[39;00m)\n\u001b[1;32m   1510\u001b[0m right \u001b[38;5;241m=\u001b[39m other\u001b[38;5;241m.\u001b[39mreindex(index\u001b[38;5;241m=\u001b[39mcommon, copy\u001b[38;5;241m=\u001b[39m\u001b[38;5;28;01mFalse\u001b[39;00m)\n",
      "\u001b[0;31mValueError\u001b[0m: matrices are not aligned"
     ]
    }
   ],
   "source": [
    "# Now we need to calculate the dot product as Total sales of each day of the week\n",
    "total_sales = sales_df.dot(price_df)"
   ]
  },
  {
   "cell_type": "code",
   "execution_count": 27,
   "id": "f8b52b82",
   "metadata": {},
   "outputs": [
    {
     "data": {
      "text/plain": [
       "((5, 3), (1, 3))"
      ]
     },
     "execution_count": 27,
     "metadata": {},
     "output_type": "execute_result"
    }
   ],
   "source": [
    "sales_df.shape, price_df.shape"
   ]
  },
  {
   "cell_type": "code",
   "execution_count": 28,
   "id": "9604ba46",
   "metadata": {},
   "outputs": [],
   "source": [
    "total_sales = sales_df.dot(price_df.T)"
   ]
  },
  {
   "cell_type": "code",
   "execution_count": 29,
   "id": "16f611e6",
   "metadata": {},
   "outputs": [
    {
     "data": {
      "text/html": [
       "<div>\n",
       "<style scoped>\n",
       "    .dataframe tbody tr th:only-of-type {\n",
       "        vertical-align: middle;\n",
       "    }\n",
       "\n",
       "    .dataframe tbody tr th {\n",
       "        vertical-align: top;\n",
       "    }\n",
       "\n",
       "    .dataframe thead th {\n",
       "        text-align: right;\n",
       "    }\n",
       "</style>\n",
       "<table border=\"1\" class=\"dataframe\">\n",
       "  <thead>\n",
       "    <tr style=\"text-align: right;\">\n",
       "      <th></th>\n",
       "      <th>Price</th>\n",
       "    </tr>\n",
       "  </thead>\n",
       "  <tbody>\n",
       "    <tr>\n",
       "      <th>Mon</th>\n",
       "      <td>446</td>\n",
       "    </tr>\n",
       "    <tr>\n",
       "      <th>Tue</th>\n",
       "      <td>646</td>\n",
       "    </tr>\n",
       "    <tr>\n",
       "      <th>Wed</th>\n",
       "      <td>182</td>\n",
       "    </tr>\n",
       "    <tr>\n",
       "      <th>Thu</th>\n",
       "      <td>98</td>\n",
       "    </tr>\n",
       "    <tr>\n",
       "      <th>Fri</th>\n",
       "      <td>286</td>\n",
       "    </tr>\n",
       "  </tbody>\n",
       "</table>\n",
       "</div>"
      ],
      "text/plain": [
       "     Price\n",
       "Mon    446\n",
       "Tue    646\n",
       "Wed    182\n",
       "Thu     98\n",
       "Fri    286"
      ]
     },
     "execution_count": 29,
     "metadata": {},
     "output_type": "execute_result"
    }
   ],
   "source": [
    "total_sales"
   ]
  },
  {
   "cell_type": "code",
   "execution_count": 30,
   "id": "b1fe9dd8",
   "metadata": {},
   "outputs": [],
   "source": [
    "weekly_total_sales = sales_df"
   ]
  },
  {
   "cell_type": "code",
   "execution_count": 31,
   "id": "1278febe",
   "metadata": {},
   "outputs": [],
   "source": [
    "weekly_total_sales[\"Price\"] = total_sales"
   ]
  },
  {
   "cell_type": "code",
   "execution_count": 32,
   "id": "9424de2f",
   "metadata": {},
   "outputs": [
    {
     "data": {
      "text/html": [
       "<div>\n",
       "<style scoped>\n",
       "    .dataframe tbody tr th:only-of-type {\n",
       "        vertical-align: middle;\n",
       "    }\n",
       "\n",
       "    .dataframe tbody tr th {\n",
       "        vertical-align: top;\n",
       "    }\n",
       "\n",
       "    .dataframe thead th {\n",
       "        text-align: right;\n",
       "    }\n",
       "</style>\n",
       "<table border=\"1\" class=\"dataframe\">\n",
       "  <thead>\n",
       "    <tr style=\"text-align: right;\">\n",
       "      <th></th>\n",
       "      <th>Almond Butter</th>\n",
       "      <th>Peanut Butter</th>\n",
       "      <th>Cashew Butter</th>\n",
       "      <th>Price</th>\n",
       "    </tr>\n",
       "  </thead>\n",
       "  <tbody>\n",
       "    <tr>\n",
       "      <th>Mon</th>\n",
       "      <td>18</td>\n",
       "      <td>3</td>\n",
       "      <td>17</td>\n",
       "      <td>446</td>\n",
       "    </tr>\n",
       "    <tr>\n",
       "      <th>Tue</th>\n",
       "      <td>19</td>\n",
       "      <td>19</td>\n",
       "      <td>19</td>\n",
       "      <td>646</td>\n",
       "    </tr>\n",
       "    <tr>\n",
       "      <th>Wed</th>\n",
       "      <td>14</td>\n",
       "      <td>7</td>\n",
       "      <td>0</td>\n",
       "      <td>182</td>\n",
       "    </tr>\n",
       "    <tr>\n",
       "      <th>Thu</th>\n",
       "      <td>1</td>\n",
       "      <td>9</td>\n",
       "      <td>0</td>\n",
       "      <td>98</td>\n",
       "    </tr>\n",
       "    <tr>\n",
       "      <th>Fri</th>\n",
       "      <td>10</td>\n",
       "      <td>3</td>\n",
       "      <td>11</td>\n",
       "      <td>286</td>\n",
       "    </tr>\n",
       "  </tbody>\n",
       "</table>\n",
       "</div>"
      ],
      "text/plain": [
       "     Almond Butter  Peanut Butter  Cashew Butter  Price\n",
       "Mon             18              3             17    446\n",
       "Tue             19             19             19    646\n",
       "Wed             14              7              0    182\n",
       "Thu              1              9              0     98\n",
       "Fri             10              3             11    286"
      ]
     },
     "execution_count": 32,
     "metadata": {},
     "output_type": "execute_result"
    }
   ],
   "source": [
    "weekly_total_sales"
   ]
  },
  {
   "cell_type": "code",
   "execution_count": 33,
   "id": "c2b30699",
   "metadata": {},
   "outputs": [
    {
     "data": {
      "text/html": [
       "<div>\n",
       "<style scoped>\n",
       "    .dataframe tbody tr th:only-of-type {\n",
       "        vertical-align: middle;\n",
       "    }\n",
       "\n",
       "    .dataframe tbody tr th {\n",
       "        vertical-align: top;\n",
       "    }\n",
       "\n",
       "    .dataframe thead th {\n",
       "        text-align: right;\n",
       "    }\n",
       "</style>\n",
       "<table border=\"1\" class=\"dataframe\">\n",
       "  <thead>\n",
       "    <tr style=\"text-align: right;\">\n",
       "      <th></th>\n",
       "      <th>Almond Butter</th>\n",
       "      <th>Peanut Butter</th>\n",
       "      <th>Cashew Butter</th>\n",
       "      <th>Total ($)</th>\n",
       "    </tr>\n",
       "  </thead>\n",
       "  <tbody>\n",
       "    <tr>\n",
       "      <th>Mon</th>\n",
       "      <td>18</td>\n",
       "      <td>3</td>\n",
       "      <td>17</td>\n",
       "      <td>446</td>\n",
       "    </tr>\n",
       "    <tr>\n",
       "      <th>Tue</th>\n",
       "      <td>19</td>\n",
       "      <td>19</td>\n",
       "      <td>19</td>\n",
       "      <td>646</td>\n",
       "    </tr>\n",
       "    <tr>\n",
       "      <th>Wed</th>\n",
       "      <td>14</td>\n",
       "      <td>7</td>\n",
       "      <td>0</td>\n",
       "      <td>182</td>\n",
       "    </tr>\n",
       "    <tr>\n",
       "      <th>Thu</th>\n",
       "      <td>1</td>\n",
       "      <td>9</td>\n",
       "      <td>0</td>\n",
       "      <td>98</td>\n",
       "    </tr>\n",
       "    <tr>\n",
       "      <th>Fri</th>\n",
       "      <td>10</td>\n",
       "      <td>3</td>\n",
       "      <td>11</td>\n",
       "      <td>286</td>\n",
       "    </tr>\n",
       "  </tbody>\n",
       "</table>\n",
       "</div>"
      ],
      "text/plain": [
       "     Almond Butter  Peanut Butter  Cashew Butter  Total ($)\n",
       "Mon             18              3             17        446\n",
       "Tue             19             19             19        646\n",
       "Wed             14              7              0        182\n",
       "Thu              1              9              0         98\n",
       "Fri             10              3             11        286"
      ]
     },
     "execution_count": 33,
     "metadata": {},
     "output_type": "execute_result"
    }
   ],
   "source": [
    "weekly_total_sales.rename(columns={\"Price\":\"Total ($)\"}, inplace=True)\n",
    "weekly_total_sales"
   ]
  },
  {
   "cell_type": "markdown",
   "id": "76b47fe4",
   "metadata": {},
   "source": [
    "## Comparison Operators\n",
    "\n",
    "- `> , < , == , >= , =<`\n",
    "- It returns boolean array\n",
    "- dtype is bool\n",
    "- type() is ndarray"
   ]
  },
  {
   "cell_type": "code",
   "execution_count": 38,
   "id": "92dc85e7",
   "metadata": {},
   "outputs": [
    {
     "data": {
      "text/plain": [
       "(array([1, 2, 3]),\n",
       " array([[1. , 2. , 3.3],\n",
       "        [4. , 5. , 6.5]]))"
      ]
     },
     "execution_count": 38,
     "metadata": {},
     "output_type": "execute_result"
    }
   ],
   "source": [
    "a1,a2"
   ]
  },
  {
   "cell_type": "code",
   "execution_count": 39,
   "id": "c610b1ea",
   "metadata": {},
   "outputs": [
    {
     "data": {
      "text/plain": [
       "array([[False, False, False],\n",
       "       [False, False, False]])"
      ]
     },
     "execution_count": 39,
     "metadata": {},
     "output_type": "execute_result"
    }
   ],
   "source": [
    "a1 > a2"
   ]
  },
  {
   "cell_type": "code",
   "execution_count": 40,
   "id": "7a9450ee",
   "metadata": {},
   "outputs": [
    {
     "data": {
      "text/plain": [
       "array([[False, False,  True],\n",
       "       [ True,  True,  True]])"
      ]
     },
     "execution_count": 40,
     "metadata": {},
     "output_type": "execute_result"
    }
   ],
   "source": [
    "a1 < a2"
   ]
  },
  {
   "cell_type": "code",
   "execution_count": 41,
   "id": "2a45b5a3",
   "metadata": {},
   "outputs": [
    {
     "data": {
      "text/plain": [
       "array([[ True,  True, False],\n",
       "       [False, False, False]])"
      ]
     },
     "execution_count": 41,
     "metadata": {},
     "output_type": "execute_result"
    }
   ],
   "source": [
    "a1 == a2"
   ]
  },
  {
   "cell_type": "markdown",
   "id": "e7696507",
   "metadata": {},
   "source": [
    "## Sorting Arrays\n",
    "\n",
    "- sort()\n",
    "- argsort()\n",
    "- argsmin()\n",
    "- argsmax()"
   ]
  },
  {
   "cell_type": "code",
   "execution_count": 42,
   "id": "f7395bb6",
   "metadata": {},
   "outputs": [
    {
     "data": {
      "text/plain": [
       "array([[[ 1,  2,  3],\n",
       "        [ 4,  5,  6],\n",
       "        [ 7,  8,  9]],\n",
       "\n",
       "       [[10, 11, 12],\n",
       "        [13, 14, 15],\n",
       "        [16, 17, 18]]])"
      ]
     },
     "execution_count": 42,
     "metadata": {},
     "output_type": "execute_result"
    }
   ],
   "source": [
    "np.sort(a3)"
   ]
  },
  {
   "cell_type": "code",
   "execution_count": 43,
   "id": "2688a607",
   "metadata": {},
   "outputs": [
    {
     "data": {
      "text/plain": [
       "array([[[0, 1, 2],\n",
       "        [0, 1, 2],\n",
       "        [0, 1, 2]],\n",
       "\n",
       "       [[0, 1, 2],\n",
       "        [0, 1, 2],\n",
       "        [0, 1, 2]]])"
      ]
     },
     "execution_count": 43,
     "metadata": {},
     "output_type": "execute_result"
    }
   ],
   "source": [
    "np.argsort(a3)"
   ]
  },
  {
   "cell_type": "code",
   "execution_count": 44,
   "id": "c6818c63",
   "metadata": {},
   "outputs": [
    {
     "data": {
      "text/plain": [
       "0"
      ]
     },
     "execution_count": 44,
     "metadata": {},
     "output_type": "execute_result"
    }
   ],
   "source": [
    "np.argmin(a3)"
   ]
  },
  {
   "cell_type": "code",
   "execution_count": 45,
   "id": "5d8e3d33",
   "metadata": {},
   "outputs": [
    {
     "data": {
      "text/plain": [
       "17"
      ]
     },
     "execution_count": 45,
     "metadata": {},
     "output_type": "execute_result"
    }
   ],
   "source": [
    "np.argmax(a3)"
   ]
  },
  {
   "cell_type": "markdown",
   "id": "4772ca9d",
   "metadata": {},
   "source": [
    "## Practical with NumPy \n",
    "\n",
    "### Converting Images into Arrays or Numbers\n",
    "\n",
    "Since machine understand the language of 0 and 1, so we have to convert those images into numbers so that they\n",
    "can understand."
   ]
  },
  {
   "cell_type": "code",
   "execution_count": 3,
   "id": "0b9bd691",
   "metadata": {},
   "outputs": [],
   "source": [
    "# import matplotlib to read the image\n",
    "from matplotlib.image import imread"
   ]
  },
  {
   "cell_type": "code",
   "execution_count": 13,
   "id": "e295a872",
   "metadata": {},
   "outputs": [
    {
     "data": {
      "image/jpeg": "[encoded data removed]",
      "text/plain": [
       "<IPython.core.display.Image object>"
      ]
     },
     "execution_count": 13,
     "metadata": {},
     "output_type": "execute_result"
    }
   ],
   "source": [
    "from IPython.display import Image\n",
    "Image(\"images/girl.jpeg\")"
   ]
  },
  {
   "cell_type": "code",
   "execution_count": 14,
   "id": "07666718",
   "metadata": {},
   "outputs": [],
   "source": [
    "girl = imread(\"images/girl.jpeg\")"
   ]
  },
  {
   "cell_type": "code",
   "execution_count": 15,
   "id": "f93fe0d1",
   "metadata": {},
   "outputs": [
    {
     "data": {
      "text/plain": [
       "array([[[ 97,  91,  79],\n",
       "        [ 98,  92,  80],\n",
       "        [ 99,  93,  81],\n",
       "        ...,\n",
       "        [ 14,  14,  14],\n",
       "        [ 14,  14,  14],\n",
       "        [ 14,  14,  14]],\n",
       "\n",
       "       [[ 97,  91,  79],\n",
       "        [ 98,  92,  80],\n",
       "        [ 99,  93,  81],\n",
       "        ...,\n",
       "        [ 14,  14,  14],\n",
       "        [ 14,  14,  14],\n",
       "        [ 14,  14,  14]],\n",
       "\n",
       "       [[ 98,  92,  80],\n",
       "        [ 99,  93,  81],\n",
       "        [101,  93,  82],\n",
       "        ...,\n",
       "        [ 14,  14,  14],\n",
       "        [ 14,  14,  14],\n",
       "        [ 14,  14,  14]],\n",
       "\n",
       "       ...,\n",
       "\n",
       "       [[ 17,  29,  29],\n",
       "        [ 20,  32,  32],\n",
       "        [ 27,  39,  39],\n",
       "        ...,\n",
       "        [ 10,  10,  10],\n",
       "        [ 10,  10,  10],\n",
       "        [ 10,  10,  10]],\n",
       "\n",
       "       [[ 16,  28,  28],\n",
       "        [ 16,  28,  28],\n",
       "        [ 24,  36,  36],\n",
       "        ...,\n",
       "        [ 10,  10,  10],\n",
       "        [ 10,  10,  10],\n",
       "        [ 10,  10,  10]],\n",
       "\n",
       "       [[ 22,  34,  34],\n",
       "        [ 15,  27,  27],\n",
       "        [ 25,  37,  37],\n",
       "        ...,\n",
       "        [ 10,  10,  10],\n",
       "        [ 10,  10,  10],\n",
       "        [ 10,  10,  10]]], dtype=uint8)"
      ]
     },
     "execution_count": 15,
     "metadata": {},
     "output_type": "execute_result"
    }
   ],
   "source": [
    "girl"
   ]
  },
  {
   "cell_type": "code",
   "execution_count": 19,
   "id": "655e395c",
   "metadata": {},
   "outputs": [
    {
     "data": {
      "text/plain": [
       "((715, 640, 3), 1372800, 3, dtype('uint8'), numpy.ndarray)"
      ]
     },
     "execution_count": 19,
     "metadata": {},
     "output_type": "execute_result"
    }
   ],
   "source": [
    "girl.shape, girl.size, girl.ndim, girl.dtype, type(girl)"
   ]
  },
  {
   "cell_type": "code",
   "execution_count": 18,
   "id": "1e9f09e6",
   "metadata": {},
   "outputs": [
    {
     "data": {
      "text/plain": [
       "array([[[97, 91, 79],\n",
       "        [98, 92, 80],\n",
       "        [99, 93, 81],\n",
       "        ...,\n",
       "        [14, 14, 14],\n",
       "        [14, 14, 14],\n",
       "        [14, 14, 14]]], dtype=uint8)"
      ]
     },
     "execution_count": 18,
     "metadata": {},
     "output_type": "execute_result"
    }
   ],
   "source": [
    "girl[:1]"
   ]
  },
  {
   "cell_type": "code",
   "execution_count": null,
   "id": "03e4cc98",
   "metadata": {},
   "outputs": [],
   "source": []
  }
 ],
 "metadata": {
  "kernelspec": {
   "display_name": "Python 3 (ipykernel)",
   "language": "python",
   "name": "python3"
  },
  "language_info": {
   "codemirror_mode": {
    "name": "ipython",
    "version": 3
   },
   "file_extension": ".py",
   "mimetype": "text/x-python",
   "name": "python",
   "nbconvert_exporter": "python",
   "pygments_lexer": "ipython3",
   "version": "3.10.4"
  }
 },
 "nbformat": 4,
 "nbformat_minor": 5
}
